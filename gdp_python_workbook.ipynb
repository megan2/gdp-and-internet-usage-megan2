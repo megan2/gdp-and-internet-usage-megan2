{
 "cells": [
  {
   "cell_type": "code",
   "execution_count": 40,
   "metadata": {},
   "outputs": [],
   "source": [
    "import pandas as pd\n",
    "import numpy as np\n",
    "import matplotlib.pyplot as plt\n",
    "import seaborn as sns\n",
    "\n",
    "%matplotlib inline"
   ]
  },
  {
   "cell_type": "markdown",
   "metadata": {},
   "source": [
    "Look at the shape of each DataFrame - how many rows? How many columns?\n",
    "\n",
    "Take a look at the datatypes for the columns in each DataFrame.\n",
    "\n",
    "Take a look at the last 10 rows of each DataFrame in turn."
   ]
  },
  {
   "cell_type": "code",
   "execution_count": 41,
   "metadata": {},
   "outputs": [
    {
     "data": {
      "text/plain": [
       "(6608, 4)"
      ]
     },
     "execution_count": 41,
     "metadata": {},
     "output_type": "execute_result"
    }
   ],
   "source": [
    "gdp_df=pd.read_csv('data/gdp_percapita.csv')\n",
    "#gdp_df.head(6)\n",
    "#gdp_df.info()\n",
    "gdp_df.shape\n",
    "#print(gdp_df.dtypes)\n",
    "#gdp_df.tail(10)"
   ]
  },
  {
   "cell_type": "code",
   "execution_count": 42,
   "metadata": {},
   "outputs": [
    {
     "data": {
      "text/plain": [
       "(4677, 4)"
      ]
     },
     "execution_count": 42,
     "metadata": {},
     "output_type": "execute_result"
    }
   ],
   "source": [
    "internet_df=pd.read_csv('data/internet_use.csv')\n",
    "#internet_df.head(6)\n",
    "#internet_df.info()\n",
    "internet_df.shape\n",
    "#print(gdp_df.dtypes)\n",
    "#internet_df.tail(10)"
   ]
  },
  {
   "cell_type": "markdown",
   "metadata": {},
   "source": [
    "Drop the value footnotes column from both DataFrames. Check that this worked as expected."
   ]
  },
  {
   "cell_type": "code",
   "execution_count": 47,
   "metadata": {},
   "outputs": [
    {
     "data": {
      "text/html": [
       "<div>\n",
       "<style scoped>\n",
       "    .dataframe tbody tr th:only-of-type {\n",
       "        vertical-align: middle;\n",
       "    }\n",
       "\n",
       "    .dataframe tbody tr th {\n",
       "        vertical-align: top;\n",
       "    }\n",
       "\n",
       "    .dataframe thead th {\n",
       "        text-align: right;\n",
       "    }\n",
       "</style>\n",
       "<table border=\"1\" class=\"dataframe\">\n",
       "  <thead>\n",
       "    <tr style=\"text-align: right;\">\n",
       "      <th></th>\n",
       "      <th>Country or Area</th>\n",
       "      <th>Year</th>\n",
       "      <th>Value</th>\n",
       "    </tr>\n",
       "  </thead>\n",
       "  <tbody>\n",
       "    <tr>\n",
       "      <th>0</th>\n",
       "      <td>Afghanistan</td>\n",
       "      <td>2018</td>\n",
       "      <td>2190.240321</td>\n",
       "    </tr>\n",
       "    <tr>\n",
       "      <th>1</th>\n",
       "      <td>Afghanistan</td>\n",
       "      <td>2017</td>\n",
       "      <td>2202.570851</td>\n",
       "    </tr>\n",
       "    <tr>\n",
       "      <th>2</th>\n",
       "      <td>Afghanistan</td>\n",
       "      <td>2016</td>\n",
       "      <td>2200.764487</td>\n",
       "    </tr>\n",
       "    <tr>\n",
       "      <th>3</th>\n",
       "      <td>Afghanistan</td>\n",
       "      <td>2015</td>\n",
       "      <td>2212.750899</td>\n",
       "    </tr>\n",
       "    <tr>\n",
       "      <th>4</th>\n",
       "      <td>Afghanistan</td>\n",
       "      <td>2014</td>\n",
       "      <td>2249.253738</td>\n",
       "    </tr>\n",
       "    <tr>\n",
       "      <th>5</th>\n",
       "      <td>Afghanistan</td>\n",
       "      <td>2013</td>\n",
       "      <td>2264.317575</td>\n",
       "    </tr>\n",
       "  </tbody>\n",
       "</table>\n",
       "</div>"
      ],
      "text/plain": [
       "  Country or Area  Year        Value\n",
       "0     Afghanistan  2018  2190.240321\n",
       "1     Afghanistan  2017  2202.570851\n",
       "2     Afghanistan  2016  2200.764487\n",
       "3     Afghanistan  2015  2212.750899\n",
       "4     Afghanistan  2014  2249.253738\n",
       "5     Afghanistan  2013  2264.317575"
      ]
     },
     "execution_count": 47,
     "metadata": {},
     "output_type": "execute_result"
    }
   ],
   "source": [
    "#gdp_df.drop(columns='Value Footnotes', inplace=True) \n",
    "#gdp_df.shape #the column still seems to be part of the dataframe and not actually deleted in the original .csv file\n",
    "gdp_df.head(6)"
   ]
  },
  {
   "cell_type": "code",
   "execution_count": 48,
   "metadata": {},
   "outputs": [
    {
     "data": {
      "text/html": [
       "<div>\n",
       "<style scoped>\n",
       "    .dataframe tbody tr th:only-of-type {\n",
       "        vertical-align: middle;\n",
       "    }\n",
       "\n",
       "    .dataframe tbody tr th {\n",
       "        vertical-align: top;\n",
       "    }\n",
       "\n",
       "    .dataframe thead th {\n",
       "        text-align: right;\n",
       "    }\n",
       "</style>\n",
       "<table border=\"1\" class=\"dataframe\">\n",
       "  <thead>\n",
       "    <tr style=\"text-align: right;\">\n",
       "      <th></th>\n",
       "      <th>Country or Area</th>\n",
       "      <th>Year</th>\n",
       "      <th>Value</th>\n",
       "    </tr>\n",
       "  </thead>\n",
       "  <tbody>\n",
       "    <tr>\n",
       "      <th>0</th>\n",
       "      <td>Afghanistan</td>\n",
       "      <td>2014</td>\n",
       "      <td>6.390000</td>\n",
       "    </tr>\n",
       "    <tr>\n",
       "      <th>1</th>\n",
       "      <td>Afghanistan</td>\n",
       "      <td>2013</td>\n",
       "      <td>5.900000</td>\n",
       "    </tr>\n",
       "    <tr>\n",
       "      <th>2</th>\n",
       "      <td>Afghanistan</td>\n",
       "      <td>2012</td>\n",
       "      <td>5.454545</td>\n",
       "    </tr>\n",
       "    <tr>\n",
       "      <th>3</th>\n",
       "      <td>Afghanistan</td>\n",
       "      <td>2011</td>\n",
       "      <td>5.000000</td>\n",
       "    </tr>\n",
       "    <tr>\n",
       "      <th>4</th>\n",
       "      <td>Afghanistan</td>\n",
       "      <td>2010</td>\n",
       "      <td>4.000000</td>\n",
       "    </tr>\n",
       "    <tr>\n",
       "      <th>5</th>\n",
       "      <td>Afghanistan</td>\n",
       "      <td>2009</td>\n",
       "      <td>3.550000</td>\n",
       "    </tr>\n",
       "  </tbody>\n",
       "</table>\n",
       "</div>"
      ],
      "text/plain": [
       "  Country or Area  Year     Value\n",
       "0     Afghanistan  2014  6.390000\n",
       "1     Afghanistan  2013  5.900000\n",
       "2     Afghanistan  2012  5.454545\n",
       "3     Afghanistan  2011  5.000000\n",
       "4     Afghanistan  2010  4.000000\n",
       "5     Afghanistan  2009  3.550000"
      ]
     },
     "execution_count": 48,
     "metadata": {},
     "output_type": "execute_result"
    }
   ],
   "source": [
    "#internet_df.drop(columns='Value Footnotes', inplace=True)\n",
    "#internet_df.shape\n",
    "internet_df.head(6)"
   ]
  },
  {
   "cell_type": "markdown",
   "metadata": {},
   "source": [
    "Change the columns for the GDP Per Capita DataFrame to ‘Country’, ‘Year’, and ‘GDP_Per_Capita’."
   ]
  },
  {
   "cell_type": "code",
   "execution_count": 60,
   "metadata": {},
   "outputs": [
    {
     "data": {
      "text/html": [
       "<div>\n",
       "<style scoped>\n",
       "    .dataframe tbody tr th:only-of-type {\n",
       "        vertical-align: middle;\n",
       "    }\n",
       "\n",
       "    .dataframe tbody tr th {\n",
       "        vertical-align: top;\n",
       "    }\n",
       "\n",
       "    .dataframe thead th {\n",
       "        text-align: right;\n",
       "    }\n",
       "</style>\n",
       "<table border=\"1\" class=\"dataframe\">\n",
       "  <thead>\n",
       "    <tr style=\"text-align: right;\">\n",
       "      <th></th>\n",
       "      <th>Country</th>\n",
       "      <th>Year</th>\n",
       "      <th>GDP_Per_Capita</th>\n",
       "    </tr>\n",
       "  </thead>\n",
       "  <tbody>\n",
       "    <tr>\n",
       "      <th>0</th>\n",
       "      <td>Afghanistan</td>\n",
       "      <td>2018</td>\n",
       "      <td>2190.240321</td>\n",
       "    </tr>\n",
       "    <tr>\n",
       "      <th>1</th>\n",
       "      <td>Afghanistan</td>\n",
       "      <td>2017</td>\n",
       "      <td>2202.570851</td>\n",
       "    </tr>\n",
       "    <tr>\n",
       "      <th>2</th>\n",
       "      <td>Afghanistan</td>\n",
       "      <td>2016</td>\n",
       "      <td>2200.764487</td>\n",
       "    </tr>\n",
       "    <tr>\n",
       "      <th>3</th>\n",
       "      <td>Afghanistan</td>\n",
       "      <td>2015</td>\n",
       "      <td>2212.750899</td>\n",
       "    </tr>\n",
       "    <tr>\n",
       "      <th>4</th>\n",
       "      <td>Afghanistan</td>\n",
       "      <td>2014</td>\n",
       "      <td>2249.253738</td>\n",
       "    </tr>\n",
       "  </tbody>\n",
       "</table>\n",
       "</div>"
      ],
      "text/plain": [
       "       Country  Year  GDP_Per_Capita\n",
       "0  Afghanistan  2018     2190.240321\n",
       "1  Afghanistan  2017     2202.570851\n",
       "2  Afghanistan  2016     2200.764487\n",
       "3  Afghanistan  2015     2212.750899\n",
       "4  Afghanistan  2014     2249.253738"
      ]
     },
     "execution_count": 60,
     "metadata": {},
     "output_type": "execute_result"
    }
   ],
   "source": [
    "gdp_df.columns = ['Country', 'Year', 'GDP_Per_Capita']\n",
    "gdp_df.head()"
   ]
  },
  {
   "cell_type": "markdown",
   "metadata": {},
   "source": [
    "Change the columns for the Internet Users DataFrame to ‘Country’, ‘Year’, and ‘Internet_Users_Pct’."
   ]
  },
  {
   "cell_type": "code",
   "execution_count": 61,
   "metadata": {},
   "outputs": [
    {
     "data": {
      "text/html": [
       "<div>\n",
       "<style scoped>\n",
       "    .dataframe tbody tr th:only-of-type {\n",
       "        vertical-align: middle;\n",
       "    }\n",
       "\n",
       "    .dataframe tbody tr th {\n",
       "        vertical-align: top;\n",
       "    }\n",
       "\n",
       "    .dataframe thead th {\n",
       "        text-align: right;\n",
       "    }\n",
       "</style>\n",
       "<table border=\"1\" class=\"dataframe\">\n",
       "  <thead>\n",
       "    <tr style=\"text-align: right;\">\n",
       "      <th></th>\n",
       "      <th>Country</th>\n",
       "      <th>Year</th>\n",
       "      <th>Internet_Users_Pct</th>\n",
       "    </tr>\n",
       "  </thead>\n",
       "  <tbody>\n",
       "    <tr>\n",
       "      <th>0</th>\n",
       "      <td>Afghanistan</td>\n",
       "      <td>2014</td>\n",
       "      <td>6.390000</td>\n",
       "    </tr>\n",
       "    <tr>\n",
       "      <th>1</th>\n",
       "      <td>Afghanistan</td>\n",
       "      <td>2013</td>\n",
       "      <td>5.900000</td>\n",
       "    </tr>\n",
       "    <tr>\n",
       "      <th>2</th>\n",
       "      <td>Afghanistan</td>\n",
       "      <td>2012</td>\n",
       "      <td>5.454545</td>\n",
       "    </tr>\n",
       "    <tr>\n",
       "      <th>3</th>\n",
       "      <td>Afghanistan</td>\n",
       "      <td>2011</td>\n",
       "      <td>5.000000</td>\n",
       "    </tr>\n",
       "    <tr>\n",
       "      <th>4</th>\n",
       "      <td>Afghanistan</td>\n",
       "      <td>2010</td>\n",
       "      <td>4.000000</td>\n",
       "    </tr>\n",
       "  </tbody>\n",
       "</table>\n",
       "</div>"
      ],
      "text/plain": [
       "       Country  Year  Internet_Users_Pct\n",
       "0  Afghanistan  2014            6.390000\n",
       "1  Afghanistan  2013            5.900000\n",
       "2  Afghanistan  2012            5.454545\n",
       "3  Afghanistan  2011            5.000000\n",
       "4  Afghanistan  2010            4.000000"
      ]
     },
     "execution_count": 61,
     "metadata": {},
     "output_type": "execute_result"
    }
   ],
   "source": [
    "internet_df.columns = ['Country','Year','Internet_Users_Pct']\n",
    "internet_df.head()"
   ]
  },
  {
   "cell_type": "markdown",
   "metadata": {},
   "source": [
    "Merge the two DataFrames to one. Merge all rows from each of the two DataFrames. Call the new DataFrame gdp_and_internet_use."
   ]
  },
  {
   "cell_type": "markdown",
   "metadata": {},
   "source": [
    "QUESTION 13"
   ]
  },
  {
   "cell_type": "code",
   "execution_count": 52,
   "metadata": {},
   "outputs": [],
   "source": [
    "gdp_and_internet_use=gdp_df.merge(internet_df, on=[\"Country\",\"Year\"], how='outer')"
   ]
  },
  {
   "cell_type": "code",
   "execution_count": 55,
   "metadata": {},
   "outputs": [
    {
     "data": {
      "text/html": [
       "<div>\n",
       "<style scoped>\n",
       "    .dataframe tbody tr th:only-of-type {\n",
       "        vertical-align: middle;\n",
       "    }\n",
       "\n",
       "    .dataframe tbody tr th {\n",
       "        vertical-align: top;\n",
       "    }\n",
       "\n",
       "    .dataframe thead th {\n",
       "        text-align: right;\n",
       "    }\n",
       "</style>\n",
       "<table border=\"1\" class=\"dataframe\">\n",
       "  <thead>\n",
       "    <tr style=\"text-align: right;\">\n",
       "      <th></th>\n",
       "      <th>Country</th>\n",
       "      <th>Year</th>\n",
       "      <th>GDP_Per_Capita</th>\n",
       "      <th>Internet_Users_Pct</th>\n",
       "    </tr>\n",
       "  </thead>\n",
       "  <tbody>\n",
       "    <tr>\n",
       "      <th>0</th>\n",
       "      <td>Afghanistan</td>\n",
       "      <td>2018</td>\n",
       "      <td>2190.240321</td>\n",
       "      <td>NaN</td>\n",
       "    </tr>\n",
       "    <tr>\n",
       "      <th>1</th>\n",
       "      <td>Afghanistan</td>\n",
       "      <td>2017</td>\n",
       "      <td>2202.570851</td>\n",
       "      <td>NaN</td>\n",
       "    </tr>\n",
       "    <tr>\n",
       "      <th>2</th>\n",
       "      <td>Afghanistan</td>\n",
       "      <td>2016</td>\n",
       "      <td>2200.764487</td>\n",
       "      <td>NaN</td>\n",
       "    </tr>\n",
       "    <tr>\n",
       "      <th>3</th>\n",
       "      <td>Afghanistan</td>\n",
       "      <td>2015</td>\n",
       "      <td>2212.750899</td>\n",
       "      <td>NaN</td>\n",
       "    </tr>\n",
       "    <tr>\n",
       "      <th>4</th>\n",
       "      <td>Afghanistan</td>\n",
       "      <td>2014</td>\n",
       "      <td>2249.253738</td>\n",
       "      <td>6.390000</td>\n",
       "    </tr>\n",
       "    <tr>\n",
       "      <th>5</th>\n",
       "      <td>Afghanistan</td>\n",
       "      <td>2013</td>\n",
       "      <td>2264.317575</td>\n",
       "      <td>5.900000</td>\n",
       "    </tr>\n",
       "    <tr>\n",
       "      <th>6</th>\n",
       "      <td>Afghanistan</td>\n",
       "      <td>2012</td>\n",
       "      <td>2220.481526</td>\n",
       "      <td>5.454545</td>\n",
       "    </tr>\n",
       "    <tr>\n",
       "      <th>7</th>\n",
       "      <td>Afghanistan</td>\n",
       "      <td>2011</td>\n",
       "      <td>2037.608607</td>\n",
       "      <td>5.000000</td>\n",
       "    </tr>\n",
       "    <tr>\n",
       "      <th>8</th>\n",
       "      <td>Afghanistan</td>\n",
       "      <td>2010</td>\n",
       "      <td>2093.743565</td>\n",
       "      <td>4.000000</td>\n",
       "    </tr>\n",
       "    <tr>\n",
       "      <th>9</th>\n",
       "      <td>Afghanistan</td>\n",
       "      <td>2009</td>\n",
       "      <td>1881.777626</td>\n",
       "      <td>3.550000</td>\n",
       "    </tr>\n",
       "  </tbody>\n",
       "</table>\n",
       "</div>"
      ],
      "text/plain": [
       "       Country  Year  GDP_Per_Capita  Internet_Users_Pct\n",
       "0  Afghanistan  2018     2190.240321                 NaN\n",
       "1  Afghanistan  2017     2202.570851                 NaN\n",
       "2  Afghanistan  2016     2200.764487                 NaN\n",
       "3  Afghanistan  2015     2212.750899                 NaN\n",
       "4  Afghanistan  2014     2249.253738            6.390000\n",
       "5  Afghanistan  2013     2264.317575            5.900000\n",
       "6  Afghanistan  2012     2220.481526            5.454545\n",
       "7  Afghanistan  2011     2037.608607            5.000000\n",
       "8  Afghanistan  2010     2093.743565            4.000000\n",
       "9  Afghanistan  2009     1881.777626            3.550000"
      ]
     },
     "execution_count": 55,
     "metadata": {},
     "output_type": "execute_result"
    }
   ],
   "source": [
    "gdp_and_internet_use.head(10)\n",
    "#gdp_and_internet_use.tail(10)"
   ]
  },
  {
   "cell_type": "markdown",
   "metadata": {},
   "source": [
    "Subset the combined DataFrame to keep only the data for 2004, 2009, and 2014. Check that this happened correctly."
   ]
  },
  {
   "cell_type": "code",
   "execution_count": 62,
   "metadata": {},
   "outputs": [],
   "source": [
    "filtered_years=gdp_and_internet_use[(gdp_and_internet_use.Year == '2004') | (gdp_and_internet_use.Year == '2009') | (gdp_and_internet_use.Year == '2014')]"
   ]
  },
  {
   "cell_type": "code",
   "execution_count": 64,
   "metadata": {},
   "outputs": [
    {
     "data": {
      "text/html": [
       "<div>\n",
       "<style scoped>\n",
       "    .dataframe tbody tr th:only-of-type {\n",
       "        vertical-align: middle;\n",
       "    }\n",
       "\n",
       "    .dataframe tbody tr th {\n",
       "        vertical-align: top;\n",
       "    }\n",
       "\n",
       "    .dataframe thead th {\n",
       "        text-align: right;\n",
       "    }\n",
       "</style>\n",
       "<table border=\"1\" class=\"dataframe\">\n",
       "  <thead>\n",
       "    <tr style=\"text-align: right;\">\n",
       "      <th></th>\n",
       "      <th>Country</th>\n",
       "      <th>Year</th>\n",
       "      <th>GDP_Per_Capita</th>\n",
       "      <th>Internet_Users_Pct</th>\n",
       "    </tr>\n",
       "  </thead>\n",
       "  <tbody>\n",
       "    <tr>\n",
       "      <th>4</th>\n",
       "      <td>Afghanistan</td>\n",
       "      <td>2014</td>\n",
       "      <td>2249.253738</td>\n",
       "      <td>6.390000</td>\n",
       "    </tr>\n",
       "    <tr>\n",
       "      <th>9</th>\n",
       "      <td>Afghanistan</td>\n",
       "      <td>2009</td>\n",
       "      <td>1881.777626</td>\n",
       "      <td>3.550000</td>\n",
       "    </tr>\n",
       "    <tr>\n",
       "      <th>14</th>\n",
       "      <td>Afghanistan</td>\n",
       "      <td>2004</td>\n",
       "      <td>1284.127338</td>\n",
       "      <td>0.105809</td>\n",
       "    </tr>\n",
       "    <tr>\n",
       "      <th>21</th>\n",
       "      <td>Albania</td>\n",
       "      <td>2014</td>\n",
       "      <td>11828.232264</td>\n",
       "      <td>60.100000</td>\n",
       "    </tr>\n",
       "    <tr>\n",
       "      <th>26</th>\n",
       "      <td>Albania</td>\n",
       "      <td>2009</td>\n",
       "      <td>10528.778102</td>\n",
       "      <td>41.200000</td>\n",
       "    </tr>\n",
       "    <tr>\n",
       "      <th>31</th>\n",
       "      <td>Albania</td>\n",
       "      <td>2004</td>\n",
       "      <td>7738.542836</td>\n",
       "      <td>2.420388</td>\n",
       "    </tr>\n",
       "    <tr>\n",
       "      <th>50</th>\n",
       "      <td>Algeria</td>\n",
       "      <td>2014</td>\n",
       "      <td>11329.428688</td>\n",
       "      <td>18.090000</td>\n",
       "    </tr>\n",
       "    <tr>\n",
       "      <th>55</th>\n",
       "      <td>Algeria</td>\n",
       "      <td>2009</td>\n",
       "      <td>10610.711405</td>\n",
       "      <td>11.230000</td>\n",
       "    </tr>\n",
       "    <tr>\n",
       "      <th>60</th>\n",
       "      <td>Algeria</td>\n",
       "      <td>2004</td>\n",
       "      <td>9898.310490</td>\n",
       "      <td>4.634475</td>\n",
       "    </tr>\n",
       "    <tr>\n",
       "      <th>79</th>\n",
       "      <td>Angola</td>\n",
       "      <td>2014</td>\n",
       "      <td>8239.832077</td>\n",
       "      <td>21.260000</td>\n",
       "    </tr>\n",
       "  </tbody>\n",
       "</table>\n",
       "</div>"
      ],
      "text/plain": [
       "        Country  Year  GDP_Per_Capita  Internet_Users_Pct\n",
       "4   Afghanistan  2014     2249.253738            6.390000\n",
       "9   Afghanistan  2009     1881.777626            3.550000\n",
       "14  Afghanistan  2004     1284.127338            0.105809\n",
       "21      Albania  2014    11828.232264           60.100000\n",
       "26      Albania  2009    10528.778102           41.200000\n",
       "31      Albania  2004     7738.542836            2.420388\n",
       "50      Algeria  2014    11329.428688           18.090000\n",
       "55      Algeria  2009    10610.711405           11.230000\n",
       "60      Algeria  2004     9898.310490            4.634475\n",
       "79       Angola  2014     8239.832077           21.260000"
      ]
     },
     "execution_count": 64,
     "metadata": {},
     "output_type": "execute_result"
    }
   ],
   "source": [
    "filtered_years.head(10)"
   ]
  },
  {
   "cell_type": "markdown",
   "metadata": {},
   "source": [
    "Create three new DataFrames, one for 2004, one for 2009, and one for 2014. Give them meaningful names that aren't too long."
   ]
  },
  {
   "cell_type": "code",
   "execution_count": 65,
   "metadata": {},
   "outputs": [],
   "source": [
    "gdp_and_internet_use_04 = gdp_and_internet_use[gdp_and_internet_use.Year == '2004']\n",
    "gdp_and_internet_use_09 = gdp_and_internet_use[gdp_and_internet_use.Year == '2009']\n",
    "gdp_and_internet_use_14 = gdp_and_internet_use[gdp_and_internet_use.Year == '2014']"
   ]
  },
  {
   "cell_type": "code",
   "execution_count": 66,
   "metadata": {},
   "outputs": [
    {
     "data": {
      "text/plain": [
       "pandas.core.frame.DataFrame"
      ]
     },
     "execution_count": 66,
     "metadata": {},
     "output_type": "execute_result"
    }
   ],
   "source": [
    "type(gdp_and_internet_use_04)"
   ]
  },
  {
   "cell_type": "code",
   "execution_count": 59,
   "metadata": {
    "scrolled": true
   },
   "outputs": [
    {
     "name": "stdout",
     "output_type": "stream",
     "text": [
      "                    Country  Year  GDP_Per_Capita  Internet_Users_Pct\n",
      "4               Afghanistan  2014     2249.253738                6.39\n",
      "21                  Albania  2014    11828.232264               60.10\n",
      "50                  Algeria  2014    11329.428688               18.09\n",
      "79                   Angola  2014     8239.832077               21.26\n",
      "108     Antigua and Barbuda  2014    18104.241470               64.00\n",
      "...                     ...   ...             ...                 ...\n",
      "7522     T.F.Y.R. Macedonia  2014             NaN               68.06\n",
      "7580              Venezuela  2014             NaN               57.00\n",
      "7604               Viet Nam  2014             NaN               48.31\n",
      "7624  Virgin Islands (U.S.)  2014             NaN               50.07\n",
      "7646                  Yemen  2014             NaN               22.55\n",
      "\n",
      "[277 rows x 4 columns]\n"
     ]
    }
   ],
   "source": [
    "print(gdp_and_internet_use_14)"
   ]
  },
  {
   "cell_type": "markdown",
   "metadata": {},
   "source": [
    "QUESTION 18:"
   ]
  },
  {
   "cell_type": "markdown",
   "metadata": {},
   "source": [
    "Which country had the highest percentage of internet users in 2014? What was the percentage? (Try typing the first 3 letters of your DataFrame name and hitting the tab key for auto-complete options).\n",
    "Repeat for 2004 and 2009."
   ]
  },
  {
   "cell_type": "code",
   "execution_count": 69,
   "metadata": {},
   "outputs": [
    {
     "data": {
      "text/html": [
       "<div>\n",
       "<style scoped>\n",
       "    .dataframe tbody tr th:only-of-type {\n",
       "        vertical-align: middle;\n",
       "    }\n",
       "\n",
       "    .dataframe tbody tr th {\n",
       "        vertical-align: top;\n",
       "    }\n",
       "\n",
       "    .dataframe thead th {\n",
       "        text-align: right;\n",
       "    }\n",
       "</style>\n",
       "<table border=\"1\" class=\"dataframe\">\n",
       "  <thead>\n",
       "    <tr style=\"text-align: right;\">\n",
       "      <th></th>\n",
       "      <th>Country</th>\n",
       "      <th>Year</th>\n",
       "      <th>GDP_Per_Capita</th>\n",
       "      <th>Internet_Users_Pct</th>\n",
       "    </tr>\n",
       "  </thead>\n",
       "  <tbody>\n",
       "    <tr>\n",
       "      <th>2507</th>\n",
       "      <td>Iceland</td>\n",
       "      <td>2014</td>\n",
       "      <td>49911.069825</td>\n",
       "      <td>98.16</td>\n",
       "    </tr>\n",
       "    <tr>\n",
       "      <th>6651</th>\n",
       "      <td>Bermuda</td>\n",
       "      <td>2014</td>\n",
       "      <td>NaN</td>\n",
       "      <td>96.80</td>\n",
       "    </tr>\n",
       "    <tr>\n",
       "      <th>4461</th>\n",
       "      <td>Norway</td>\n",
       "      <td>2014</td>\n",
       "      <td>61308.763730</td>\n",
       "      <td>96.30</td>\n",
       "    </tr>\n",
       "    <tr>\n",
       "      <th>1374</th>\n",
       "      <td>Denmark</td>\n",
       "      <td>2014</td>\n",
       "      <td>52172.606425</td>\n",
       "      <td>95.99</td>\n",
       "    </tr>\n",
       "    <tr>\n",
       "      <th>6611</th>\n",
       "      <td>Andorra</td>\n",
       "      <td>2014</td>\n",
       "      <td>NaN</td>\n",
       "      <td>95.90</td>\n",
       "    </tr>\n",
       "    <tr>\n",
       "      <th>...</th>\n",
       "      <td>...</td>\n",
       "      <td>...</td>\n",
       "      <td>...</td>\n",
       "      <td>...</td>\n",
       "    </tr>\n",
       "    <tr>\n",
       "      <th>6179</th>\n",
       "      <td>Tuvalu</td>\n",
       "      <td>2014</td>\n",
       "      <td>3455.741510</td>\n",
       "      <td>NaN</td>\n",
       "    </tr>\n",
       "    <tr>\n",
       "      <th>6353</th>\n",
       "      <td>Upper middle income</td>\n",
       "      <td>2014</td>\n",
       "      <td>14271.692393</td>\n",
       "      <td>NaN</td>\n",
       "    </tr>\n",
       "    <tr>\n",
       "      <th>6469</th>\n",
       "      <td>Vietnam</td>\n",
       "      <td>2014</td>\n",
       "      <td>6098.489609</td>\n",
       "      <td>NaN</td>\n",
       "    </tr>\n",
       "    <tr>\n",
       "      <th>6498</th>\n",
       "      <td>West Bank and Gaza</td>\n",
       "      <td>2014</td>\n",
       "      <td>5499.415939</td>\n",
       "      <td>NaN</td>\n",
       "    </tr>\n",
       "    <tr>\n",
       "      <th>6523</th>\n",
       "      <td>World</td>\n",
       "      <td>2014</td>\n",
       "      <td>15181.246955</td>\n",
       "      <td>NaN</td>\n",
       "    </tr>\n",
       "  </tbody>\n",
       "</table>\n",
       "<p>277 rows × 4 columns</p>\n",
       "</div>"
      ],
      "text/plain": [
       "                  Country  Year  GDP_Per_Capita  Internet_Users_Pct\n",
       "2507              Iceland  2014    49911.069825               98.16\n",
       "6651              Bermuda  2014             NaN               96.80\n",
       "4461               Norway  2014    61308.763730               96.30\n",
       "1374              Denmark  2014    52172.606425               95.99\n",
       "6611              Andorra  2014             NaN               95.90\n",
       "...                   ...   ...             ...                 ...\n",
       "6179               Tuvalu  2014     3455.741510                 NaN\n",
       "6353  Upper middle income  2014    14271.692393                 NaN\n",
       "6469              Vietnam  2014     6098.489609                 NaN\n",
       "6498   West Bank and Gaza  2014     5499.415939                 NaN\n",
       "6523                World  2014    15181.246955                 NaN\n",
       "\n",
       "[277 rows x 4 columns]"
      ]
     },
     "execution_count": 69,
     "metadata": {},
     "output_type": "execute_result"
    }
   ],
   "source": [
    "gdp_and_internet_use_14.sort_values('Internet_Users_Pct', ascending=False)\n",
    "#gdp_and_internet_use_09.sort_values('Internet_Users_Pct', ascending=False)\n",
    "#gdp_and_internet_use_04.sort_values('Internet_Users_Pct', ascending=False)"
   ]
  },
  {
   "cell_type": "markdown",
   "metadata": {},
   "source": [
    "QUESTION 18 ANSWER:\n",
    "\n",
    "2004: Sweden, 83.89 percent\n",
    "\n",
    "2009: Iceland, 93 percent\n",
    "\n",
    "2014: Iceland, 98.16 percent"
   ]
  },
  {
   "cell_type": "markdown",
   "metadata": {},
   "source": [
    "QUESTION 19"
   ]
  },
  {
   "cell_type": "markdown",
   "metadata": {},
   "source": [
    "Which country had the lowest percentage of internet users in 2014? What was the percentage?\n",
    "Repeat for 2004 and 2009."
   ]
  },
  {
   "cell_type": "code",
   "execution_count": 72,
   "metadata": {},
   "outputs": [
    {
     "data": {
      "text/html": [
       "<div>\n",
       "<style scoped>\n",
       "    .dataframe tbody tr th:only-of-type {\n",
       "        vertical-align: middle;\n",
       "    }\n",
       "\n",
       "    .dataframe tbody tr th {\n",
       "        vertical-align: top;\n",
       "    }\n",
       "\n",
       "    .dataframe thead th {\n",
       "        text-align: right;\n",
       "    }\n",
       "</style>\n",
       "<table border=\"1\" class=\"dataframe\">\n",
       "  <thead>\n",
       "    <tr style=\"text-align: right;\">\n",
       "      <th></th>\n",
       "      <th>Country</th>\n",
       "      <th>Year</th>\n",
       "      <th>GDP_Per_Capita</th>\n",
       "      <th>Internet_Users_Pct</th>\n",
       "    </tr>\n",
       "  </thead>\n",
       "  <tbody>\n",
       "    <tr>\n",
       "      <th>6849</th>\n",
       "      <td>Dem. People's Rep. of Korea</td>\n",
       "      <td>2004</td>\n",
       "      <td>NaN</td>\n",
       "      <td>0.000000</td>\n",
       "    </tr>\n",
       "    <tr>\n",
       "      <th>4166</th>\n",
       "      <td>Myanmar</td>\n",
       "      <td>2004</td>\n",
       "      <td>1696.881760</td>\n",
       "      <td>0.024337</td>\n",
       "    </tr>\n",
       "    <tr>\n",
       "      <th>3395</th>\n",
       "      <td>Liberia</td>\n",
       "      <td>2004</td>\n",
       "      <td>1181.546158</td>\n",
       "      <td>0.031011</td>\n",
       "    </tr>\n",
       "    <tr>\n",
       "      <th>5843</th>\n",
       "      <td>Tajikistan</td>\n",
       "      <td>2004</td>\n",
       "      <td>1737.743630</td>\n",
       "      <td>0.077480</td>\n",
       "    </tr>\n",
       "    <tr>\n",
       "      <th>14</th>\n",
       "      <td>Afghanistan</td>\n",
       "      <td>2004</td>\n",
       "      <td>1284.127338</td>\n",
       "      <td>0.105809</td>\n",
       "    </tr>\n",
       "    <tr>\n",
       "      <th>...</th>\n",
       "      <td>...</td>\n",
       "      <td>...</td>\n",
       "      <td>...</td>\n",
       "      <td>...</td>\n",
       "    </tr>\n",
       "    <tr>\n",
       "      <th>6189</th>\n",
       "      <td>Tuvalu</td>\n",
       "      <td>2004</td>\n",
       "      <td>3341.738017</td>\n",
       "      <td>NaN</td>\n",
       "    </tr>\n",
       "    <tr>\n",
       "      <th>6363</th>\n",
       "      <td>Upper middle income</td>\n",
       "      <td>2004</td>\n",
       "      <td>8561.878030</td>\n",
       "      <td>NaN</td>\n",
       "    </tr>\n",
       "    <tr>\n",
       "      <th>6479</th>\n",
       "      <td>Vietnam</td>\n",
       "      <td>2004</td>\n",
       "      <td>3689.732423</td>\n",
       "      <td>NaN</td>\n",
       "    </tr>\n",
       "    <tr>\n",
       "      <th>6508</th>\n",
       "      <td>West Bank and Gaza</td>\n",
       "      <td>2004</td>\n",
       "      <td>4113.246936</td>\n",
       "      <td>NaN</td>\n",
       "    </tr>\n",
       "    <tr>\n",
       "      <th>6533</th>\n",
       "      <td>World</td>\n",
       "      <td>2004</td>\n",
       "      <td>12070.457345</td>\n",
       "      <td>NaN</td>\n",
       "    </tr>\n",
       "  </tbody>\n",
       "</table>\n",
       "<p>276 rows × 4 columns</p>\n",
       "</div>"
      ],
      "text/plain": [
       "                          Country  Year  GDP_Per_Capita  Internet_Users_Pct\n",
       "6849  Dem. People's Rep. of Korea  2004             NaN            0.000000\n",
       "4166                      Myanmar  2004     1696.881760            0.024337\n",
       "3395                      Liberia  2004     1181.546158            0.031011\n",
       "5843                   Tajikistan  2004     1737.743630            0.077480\n",
       "14                    Afghanistan  2004     1284.127338            0.105809\n",
       "...                           ...   ...             ...                 ...\n",
       "6189                       Tuvalu  2004     3341.738017                 NaN\n",
       "6363          Upper middle income  2004     8561.878030                 NaN\n",
       "6479                      Vietnam  2004     3689.732423                 NaN\n",
       "6508           West Bank and Gaza  2004     4113.246936                 NaN\n",
       "6533                        World  2004    12070.457345                 NaN\n",
       "\n",
       "[276 rows x 4 columns]"
      ]
     },
     "execution_count": 72,
     "metadata": {},
     "output_type": "execute_result"
    }
   ],
   "source": [
    "#gdp_and_internet_use_14.sort_values('Internet_Users_Pct', ascending=True)\n",
    "#gdp_and_internet_use_09.sort_values('Internet_Users_Pct', ascending=True)\n",
    "gdp_and_internet_use_04.sort_values('Internet_Users_Pct', ascending=True) "
   ]
  },
  {
   "cell_type": "markdown",
   "metadata": {},
   "source": [
    "QUESTION 19 ANSWER:\n",
    "\n",
    "    2014: Dem. People's Rep. of Korea, 0%\n",
    "    2009: Dem. People's Rep. of Korea, 0%\n",
    "    2004: Dem. People's Rep. of Korea, 0%\n",
    "    "
   ]
  },
  {
   "cell_type": "markdown",
   "metadata": {},
   "source": [
    "21. Which country had the highest gdp per capita in 2014? What was the gdp per capita?\n"
   ]
  },
  {
   "cell_type": "code",
   "execution_count": 73,
   "metadata": {},
   "outputs": [
    {
     "data": {
      "text/html": [
       "<div>\n",
       "<style scoped>\n",
       "    .dataframe tbody tr th:only-of-type {\n",
       "        vertical-align: middle;\n",
       "    }\n",
       "\n",
       "    .dataframe tbody tr th {\n",
       "        vertical-align: top;\n",
       "    }\n",
       "\n",
       "    .dataframe thead th {\n",
       "        text-align: right;\n",
       "    }\n",
       "</style>\n",
       "<table border=\"1\" class=\"dataframe\">\n",
       "  <thead>\n",
       "    <tr style=\"text-align: right;\">\n",
       "      <th></th>\n",
       "      <th>Country</th>\n",
       "      <th>Year</th>\n",
       "      <th>GDP_Per_Capita</th>\n",
       "      <th>Internet_Users_Pct</th>\n",
       "    </tr>\n",
       "  </thead>\n",
       "  <tbody>\n",
       "    <tr>\n",
       "      <th>3564</th>\n",
       "      <td>Macao SAR, China</td>\n",
       "      <td>2014</td>\n",
       "      <td>156514.133850</td>\n",
       "      <td>NaN</td>\n",
       "    </tr>\n",
       "    <tr>\n",
       "      <th>3535</th>\n",
       "      <td>Luxembourg</td>\n",
       "      <td>2014</td>\n",
       "      <td>108911.348894</td>\n",
       "      <td>94.67</td>\n",
       "    </tr>\n",
       "    <tr>\n",
       "      <th>4934</th>\n",
       "      <td>Qatar</td>\n",
       "      <td>2014</td>\n",
       "      <td>97938.305225</td>\n",
       "      <td>91.49</td>\n",
       "    </tr>\n",
       "    <tr>\n",
       "      <th>5249</th>\n",
       "      <td>Singapore</td>\n",
       "      <td>2014</td>\n",
       "      <td>87808.663157</td>\n",
       "      <td>82.00</td>\n",
       "    </tr>\n",
       "    <tr>\n",
       "      <th>970</th>\n",
       "      <td>Cayman Islands</td>\n",
       "      <td>2014</td>\n",
       "      <td>66195.475587</td>\n",
       "      <td>74.10</td>\n",
       "    </tr>\n",
       "    <tr>\n",
       "      <th>...</th>\n",
       "      <td>...</td>\n",
       "      <td>...</td>\n",
       "      <td>...</td>\n",
       "      <td>...</td>\n",
       "    </tr>\n",
       "    <tr>\n",
       "      <th>7522</th>\n",
       "      <td>T.F.Y.R. Macedonia</td>\n",
       "      <td>2014</td>\n",
       "      <td>NaN</td>\n",
       "      <td>68.06</td>\n",
       "    </tr>\n",
       "    <tr>\n",
       "      <th>7580</th>\n",
       "      <td>Venezuela</td>\n",
       "      <td>2014</td>\n",
       "      <td>NaN</td>\n",
       "      <td>57.00</td>\n",
       "    </tr>\n",
       "    <tr>\n",
       "      <th>7604</th>\n",
       "      <td>Viet Nam</td>\n",
       "      <td>2014</td>\n",
       "      <td>NaN</td>\n",
       "      <td>48.31</td>\n",
       "    </tr>\n",
       "    <tr>\n",
       "      <th>7624</th>\n",
       "      <td>Virgin Islands (U.S.)</td>\n",
       "      <td>2014</td>\n",
       "      <td>NaN</td>\n",
       "      <td>50.07</td>\n",
       "    </tr>\n",
       "    <tr>\n",
       "      <th>7646</th>\n",
       "      <td>Yemen</td>\n",
       "      <td>2014</td>\n",
       "      <td>NaN</td>\n",
       "      <td>22.55</td>\n",
       "    </tr>\n",
       "  </tbody>\n",
       "</table>\n",
       "<p>277 rows × 4 columns</p>\n",
       "</div>"
      ],
      "text/plain": [
       "                    Country  Year  GDP_Per_Capita  Internet_Users_Pct\n",
       "3564       Macao SAR, China  2014   156514.133850                 NaN\n",
       "3535             Luxembourg  2014   108911.348894               94.67\n",
       "4934                  Qatar  2014    97938.305225               91.49\n",
       "5249              Singapore  2014    87808.663157               82.00\n",
       "970          Cayman Islands  2014    66195.475587               74.10\n",
       "...                     ...   ...             ...                 ...\n",
       "7522     T.F.Y.R. Macedonia  2014             NaN               68.06\n",
       "7580              Venezuela  2014             NaN               57.00\n",
       "7604               Viet Nam  2014             NaN               48.31\n",
       "7624  Virgin Islands (U.S.)  2014             NaN               50.07\n",
       "7646                  Yemen  2014             NaN               22.55\n",
       "\n",
       "[277 rows x 4 columns]"
      ]
     },
     "execution_count": 73,
     "metadata": {},
     "output_type": "execute_result"
    }
   ],
   "source": [
    "gdp_and_internet_use_14.sort_values('GDP_Per_Capita', ascending=False)"
   ]
  },
  {
   "cell_type": "markdown",
   "metadata": {},
   "source": [
    "21 ANSWER: Macao SAR, China, 156514.133850"
   ]
  },
  {
   "cell_type": "code",
   "execution_count": 74,
   "metadata": {},
   "outputs": [
    {
     "data": {
      "text/html": [
       "<div>\n",
       "<style scoped>\n",
       "    .dataframe tbody tr th:only-of-type {\n",
       "        vertical-align: middle;\n",
       "    }\n",
       "\n",
       "    .dataframe tbody tr th {\n",
       "        vertical-align: top;\n",
       "    }\n",
       "\n",
       "    .dataframe thead th {\n",
       "        text-align: right;\n",
       "    }\n",
       "</style>\n",
       "<table border=\"1\" class=\"dataframe\">\n",
       "  <thead>\n",
       "    <tr style=\"text-align: right;\">\n",
       "      <th></th>\n",
       "      <th>Country</th>\n",
       "      <th>Year</th>\n",
       "      <th>GDP_Per_Capita</th>\n",
       "      <th>Internet_Users_Pct</th>\n",
       "    </tr>\n",
       "  </thead>\n",
       "  <tbody>\n",
       "    <tr>\n",
       "      <th>983</th>\n",
       "      <td>Central African Republic</td>\n",
       "      <td>2014</td>\n",
       "      <td>822.610458</td>\n",
       "      <td>NaN</td>\n",
       "    </tr>\n",
       "    <tr>\n",
       "      <th>770</th>\n",
       "      <td>Burundi</td>\n",
       "      <td>2014</td>\n",
       "      <td>886.235777</td>\n",
       "      <td>1.38</td>\n",
       "    </tr>\n",
       "    <tr>\n",
       "      <th>3622</th>\n",
       "      <td>Malawi</td>\n",
       "      <td>2014</td>\n",
       "      <td>1027.208496</td>\n",
       "      <td>5.83</td>\n",
       "    </tr>\n",
       "    <tr>\n",
       "      <th>1345</th>\n",
       "      <td>Dem. Rep. Congo</td>\n",
       "      <td>2014</td>\n",
       "      <td>1029.790785</td>\n",
       "      <td>NaN</td>\n",
       "    </tr>\n",
       "    <tr>\n",
       "      <th>4345</th>\n",
       "      <td>Niger</td>\n",
       "      <td>2014</td>\n",
       "      <td>1126.153622</td>\n",
       "      <td>1.95</td>\n",
       "    </tr>\n",
       "    <tr>\n",
       "      <th>...</th>\n",
       "      <td>...</td>\n",
       "      <td>...</td>\n",
       "      <td>...</td>\n",
       "      <td>...</td>\n",
       "    </tr>\n",
       "    <tr>\n",
       "      <th>7522</th>\n",
       "      <td>T.F.Y.R. Macedonia</td>\n",
       "      <td>2014</td>\n",
       "      <td>NaN</td>\n",
       "      <td>68.06</td>\n",
       "    </tr>\n",
       "    <tr>\n",
       "      <th>7580</th>\n",
       "      <td>Venezuela</td>\n",
       "      <td>2014</td>\n",
       "      <td>NaN</td>\n",
       "      <td>57.00</td>\n",
       "    </tr>\n",
       "    <tr>\n",
       "      <th>7604</th>\n",
       "      <td>Viet Nam</td>\n",
       "      <td>2014</td>\n",
       "      <td>NaN</td>\n",
       "      <td>48.31</td>\n",
       "    </tr>\n",
       "    <tr>\n",
       "      <th>7624</th>\n",
       "      <td>Virgin Islands (U.S.)</td>\n",
       "      <td>2014</td>\n",
       "      <td>NaN</td>\n",
       "      <td>50.07</td>\n",
       "    </tr>\n",
       "    <tr>\n",
       "      <th>7646</th>\n",
       "      <td>Yemen</td>\n",
       "      <td>2014</td>\n",
       "      <td>NaN</td>\n",
       "      <td>22.55</td>\n",
       "    </tr>\n",
       "  </tbody>\n",
       "</table>\n",
       "<p>277 rows × 4 columns</p>\n",
       "</div>"
      ],
      "text/plain": [
       "                       Country  Year  GDP_Per_Capita  Internet_Users_Pct\n",
       "983   Central African Republic  2014      822.610458                 NaN\n",
       "770                    Burundi  2014      886.235777                1.38\n",
       "3622                    Malawi  2014     1027.208496                5.83\n",
       "1345           Dem. Rep. Congo  2014     1029.790785                 NaN\n",
       "4345                     Niger  2014     1126.153622                1.95\n",
       "...                        ...   ...             ...                 ...\n",
       "7522        T.F.Y.R. Macedonia  2014             NaN               68.06\n",
       "7580                 Venezuela  2014             NaN               57.00\n",
       "7604                  Viet Nam  2014             NaN               48.31\n",
       "7624     Virgin Islands (U.S.)  2014             NaN               50.07\n",
       "7646                     Yemen  2014             NaN               22.55\n",
       "\n",
       "[277 rows x 4 columns]"
      ]
     },
     "execution_count": 74,
     "metadata": {},
     "output_type": "execute_result"
    }
   ],
   "source": [
    "gdp_and_internet_use_14.sort_values('GDP_Per_Capita', ascending=True)"
   ]
  },
  {
   "cell_type": "markdown",
   "metadata": {},
   "source": [
    "Central African Republic, 822.610458\t"
   ]
  },
  {
   "cell_type": "markdown",
   "metadata": {},
   "source": [
    "QUESTION 23\n",
    "\n",
    "Create some scatterplots:\n",
    "\n",
    "a. 2004 Percent Using the Internet vs GDP Per Capita\n",
    "\n",
    "b. 2009 Percent Using the Internet vs GDP Per Capita\n",
    "\n",
    "c. 2014 Percent Using the Internet vs GDP Per Capita\n",
    "\n"
   ]
  },
  {
   "cell_type": "code",
   "execution_count": 80,
   "metadata": {},
   "outputs": [
    {
     "data": {
      "text/plain": [
       "Text(0, 0.5, 'GDP_Per_Capita')"
      ]
     },
     "execution_count": 80,
     "metadata": {},
     "output_type": "execute_result"
    },
    {
     "data": {
      "image/png": "[encoded data removed]",
      "text/plain": [
       "<Figure size 432x288 with 1 Axes>"
      ]
     },
     "metadata": {
      "needs_background": "light"
     },
     "output_type": "display_data"
    }
   ],
   "source": [
    "plt.scatter(gdp_and_internet_use_04.Internet_Users_Pct, gdp_and_internet_use_04.GDP_Per_Capita)\n",
    "plt.title(\"2004\")\n",
    "plt.xlabel(\"Internet_Users_Pct\")\n",
    "plt.ylabel(\"GDP_Per_Capita\")\n"
   ]
  },
  {
   "cell_type": "code",
   "execution_count": 81,
   "metadata": {},
   "outputs": [
    {
     "data": {
      "text/plain": [
       "Text(0, 0.5, 'GDP_Per_Capita')"
      ]
     },
     "execution_count": 81,
     "metadata": {},
     "output_type": "execute_result"
    },
    {
     "data": {
      "image/png": "[encoded data removed]",
      "text/plain": [
       "<Figure size 432x288 with 1 Axes>"
      ]
     },
     "metadata": {
      "needs_background": "light"
     },
     "output_type": "display_data"
    }
   ],
   "source": [
    "plt.scatter(gdp_and_internet_use_09.Internet_Users_Pct, gdp_and_internet_use_09.GDP_Per_Capita)\n",
    "plt.title(\"2009\")\n",
    "plt.xlabel(\"Internet_Users_Pct\")\n",
    "plt.ylabel(\"GDP_Per_Capita\")"
   ]
  },
  {
   "cell_type": "code",
   "execution_count": 82,
   "metadata": {},
   "outputs": [
    {
     "data": {
      "text/plain": [
       "Text(0, 0.5, 'GDP_Per_Capita')"
      ]
     },
     "execution_count": 82,
     "metadata": {},
     "output_type": "execute_result"
    },
    {
     "data": {
      "image/png": "[encoded data removed]",
      "text/plain": [
       "<Figure size 432x288 with 1 Axes>"
      ]
     },
     "metadata": {
      "needs_background": "light"
     },
     "output_type": "display_data"
    }
   ],
   "source": [
    "plt.scatter(gdp_and_internet_use_14.Internet_Users_Pct, gdp_and_internet_use_14.GDP_Per_Capita)\n",
    "plt.title(\"2014\")\n",
    "plt.xlabel(\"Internet_Users_Pct\")\n",
    "plt.ylabel(\"GDP_Per_Capita\")"
   ]
  },
  {
   "cell_type": "markdown",
   "metadata": {},
   "source": []
  }
 ],
 "metadata": {
  "kernelspec": {
   "display_name": "Python 3",
   "language": "python",
   "name": "python3"
  },
  "language_info": {
   "codemirror_mode": {
    "name": "ipython",
    "version": 3
   },
   "file_extension": ".py",
   "mimetype": "text/x-python",
   "name": "python",
   "nbconvert_exporter": "python",
   "pygments_lexer": "ipython3",
   "version": "3.8.5"
  }
 },
 "nbformat": 4,
 "nbformat_minor": 4
}
